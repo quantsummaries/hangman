{
 "cells": [
  {
   "cell_type": "markdown",
   "id": "78db95ab-79c0-4e93-ad4a-5e806ed1e23a",
   "metadata": {},
   "source": [
    "# Model Evaluation of Hangman API"
   ]
  },
  {
   "cell_type": "markdown",
   "id": "1ee54fb6-6428-48b7-aca0-b44a2d63f78c",
   "metadata": {},
   "source": [
    "## Test Accuracy on Full Dictionary"
   ]
  },
  {
   "cell_type": "code",
   "execution_count": 1,
   "id": "f82b91b7-3219-4abb-b352-442e3f2c5716",
   "metadata": {},
   "outputs": [
    {
     "name": "stdout",
     "output_type": "stream",
     "text": [
      "\n",
      "--- loaded model weights from model_weights.h5\n",
      "\n",
      "1/1\n",
      "--- Game Starts: 6 tries remain, word is 'stembud', masked_word is '_______'\n",
      "\tguessed e, masked_word is now __e____, 6 tries remain(s), guessed letters are ['e']\n",
      "\tguessed a, masked_word is now __e____, 5 tries remain(s), guessed letters are ['e', 'a']\n",
      "\tguessed n, masked_word is now __e____, 4 tries remain(s), guessed letters are ['e', 'a', 'n']\n",
      "\tguessed o, masked_word is now __e____, 3 tries remain(s), guessed letters are ['e', 'a', 'n', 'o']\n",
      "\tguessed r, masked_word is now __e____, 2 tries remain(s), guessed letters are ['e', 'a', 'n', 'o', 'r']\n",
      "\tguessed s, masked_word is now s_e____, 2 tries remain(s), guessed letters are ['e', 'a', 'n', 'o', 'r', 's']\n",
      "\tguessed l, masked_word is now s_e____, 1 tries remain(s), guessed letters are ['e', 'a', 'n', 'o', 'r', 's', 'l']\n",
      "\tguessed t, masked_word is now ste____, 1 tries remain(s), guessed letters are ['e', 'a', 'n', 'o', 'r', 's', 'l', 't']\n",
      "\tguessed i, masked_word is now ste____, 0 tries remain(s), guessed letters are ['e', 'a', 'n', 'o', 'r', 's', 'l', 't', 'i']\n",
      "--- You Lose: masked_word is now 'ste____', guessed letters are ['e', 'a', 'n', 'o', 'r', 's', 'l', 't', 'i']\n",
      "\n",
      "95% confidence: 0.0% +/- 2x0.0%\n"
     ]
    }
   ],
   "source": [
    "import numpy\n",
    "from dnn_model import HangmanAPI\n",
    "\n",
    "n_tests = 1\n",
    "results = list()\n",
    "\n",
    "hangman = HangmanAPI(train_dict_src='words_250000_train.txt', model_weights_src='model_weights.h5')\n",
    "for n in range(n_tests):\n",
    "\n",
    "    print(f\"\"\"{n+1}/{n_tests}\"\"\")\n",
    "    if 'WIN' == hangman.start_game(verbose=True):\n",
    "        results.append(1)\n",
    "    else:\n",
    "        results.append(0)\n",
    "\n",
    "results = numpy.array(results)\n",
    "m = results.mean()\n",
    "std = numpy.sqrt(m*(1-m)/n_tests)\n",
    "print(f\"\"\"95% confidence: {round(m * 100, 2)}% +/- 2x{round(std * 100, 2)}%\"\"\")"
   ]
  },
  {
   "cell_type": "markdown",
   "id": "f449564d-3759-40f2-9101-7264cb26870f",
   "metadata": {},
   "source": [
    "## Load Train Data"
   ]
  },
  {
   "cell_type": "code",
   "execution_count": 2,
   "id": "d75d0fb6-2dd1-4270-8c01-7c89368e4032",
   "metadata": {},
   "outputs": [
    {
     "name": "stdout",
     "output_type": "stream",
     "text": [
      "114\n",
      "(2700305, 29) (2700305, 26) (2700305, 26)\n"
     ]
    }
   ],
   "source": [
    "import numpy\n",
    "import os\n",
    "import random\n",
    "\n",
    "curr_dir = os.path.dirname(os.getcwd())\n",
    "data_dir = os.path.join(os.path.join(os.path.join(curr_dir, 'hangmanAPI'), 'train_data'), 'epoch2_shuffled_samples')\n",
    "\n",
    "files = [f for f in os.listdir(data_dir) if 'encoded' in f]\n",
    "# random.shuffle(files)\n",
    "data_files = [os.path.join(data_dir, x) for x in files]\n",
    "print(len(data_files))\n",
    "\n",
    "data = list()\n",
    "for f in data_files:\n",
    "    data.append(numpy.loadtxt(f, delimiter=','))\n",
    "X = numpy.vstack(data)\n",
    "X1 = X[:, :29]\n",
    "X2 = X[:, 29:55]\n",
    "y = X[:, 55:]\n",
    "print(X1.shape, X2.shape, y.shape)"
   ]
  },
  {
   "cell_type": "markdown",
   "id": "85f88f9d-9126-48f1-81bd-cfd273306cb7",
   "metadata": {},
   "source": [
    "## Evaluate Current Model Weights"
   ]
  },
  {
   "cell_type": "code",
   "execution_count": 3,
   "id": "2eac4646-5460-4257-bd12-18bb77cc020f",
   "metadata": {},
   "outputs": [
    {
     "name": "stdout",
     "output_type": "stream",
     "text": [
      "\n",
      "--- loaded model weights from model_weights.h5\n",
      "\n",
      "27004/27004 [==============================] - 176s 6ms/step - loss: 2.5874 - accuracy: 0.1639\n",
      "accuracy: 16.39%\n"
     ]
    }
   ],
   "source": [
    "from dnn_model import DNNModel\n",
    "\n",
    "trained_model = DNNModel('words_250000_train.txt', model_weights_src='model_weights.h5', verbose=False).model\n",
    "scores = trained_model.evaluate([X1, X2], y, batch_size=100)\n",
    "print(\"%s: %.2f%%\" % (trained_model.metrics_names[1], scores[1]*100))"
   ]
  },
  {
   "cell_type": "markdown",
   "id": "9595e164-b502-4561-9068-fad45e01b49f",
   "metadata": {},
   "source": [
    "## Cross Validation of the DNN Model\n",
    "\n",
    "- Brownlee: Deep Learning with Python 2ed., Chapter 8: Evaluate the Performance of Deep Learning Models"
   ]
  },
  {
   "cell_type": "markdown",
   "id": "9e06c394-b395-43d2-8f82-e38be4df23cb",
   "metadata": {},
   "source": [
    "### CV by Automatic Verification Dataset\n",
    "\n",
    "- model.fit(X, y, validation_split=0.33, epochs=10, batch_size=100) "
   ]
  },
  {
   "cell_type": "code",
   "execution_count": 4,
   "id": "cfb95caf-a708-45b6-8bf4-0291368b2f3a",
   "metadata": {},
   "outputs": [
    {
     "name": "stdout",
     "output_type": "stream",
     "text": [
      "\n",
      "--- model weights not loaded\n",
      "\n",
      "Epoch 1/10\n",
      "18093/18093 [==============================] - 586s 32ms/step - loss: 2.6933 - accuracy: 0.1407 - val_loss: 2.6283 - val_accuracy: 0.1686\n",
      "Epoch 2/10\n",
      "18093/18093 [==============================] - 502s 28ms/step - loss: 2.6015 - accuracy: 0.1648 - val_loss: 2.5853 - val_accuracy: 0.1658\n",
      "Epoch 3/10\n",
      "18093/18093 [==============================] - 527s 29ms/step - loss: 2.5699 - accuracy: 0.1751 - val_loss: 2.5678 - val_accuracy: 0.1635\n",
      "Epoch 4/10\n",
      "18093/18093 [==============================] - 527s 29ms/step - loss: 2.5538 - accuracy: 0.1784 - val_loss: 2.5516 - val_accuracy: 0.1648\n",
      "Epoch 5/10\n",
      "18093/18093 [==============================] - 495s 27ms/step - loss: 2.5436 - accuracy: 0.1809 - val_loss: 2.5415 - val_accuracy: 0.1593\n",
      "Epoch 6/10\n",
      "18093/18093 [==============================] - 492s 27ms/step - loss: 2.5364 - accuracy: 0.1827 - val_loss: 2.5372 - val_accuracy: 0.1635\n",
      "Epoch 7/10\n",
      "18093/18093 [==============================] - 469s 26ms/step - loss: 2.5310 - accuracy: 0.1843 - val_loss: 2.5273 - val_accuracy: 0.1654\n",
      "Epoch 8/10\n",
      "18093/18093 [==============================] - 471s 26ms/step - loss: 2.5269 - accuracy: 0.1854 - val_loss: 2.5254 - val_accuracy: 0.1700\n",
      "Epoch 9/10\n",
      "18093/18093 [==============================] - 479s 26ms/step - loss: 2.5238 - accuracy: 0.1863 - val_loss: 2.5229 - val_accuracy: 0.1694\n",
      "Epoch 10/10\n",
      "18093/18093 [==============================] - 480s 27ms/step - loss: 2.5209 - accuracy: 0.1870 - val_loss: 2.5211 - val_accuracy: 0.1683\n",
      "dict_keys(['loss', 'accuracy', 'val_loss', 'val_accuracy'])\n"
     ]
    },
    {
     "data": {
      "image/png": "[encoded data removed]",
      "text/plain": [
       "<Figure size 640x480 with 1 Axes>"
      ]
     },
     "metadata": {},
     "output_type": "display_data"
    },
    {
     "data": {
      "image/png": "[encoded data removed]",
      "text/plain": [
       "<Figure size 640x480 with 1 Axes>"
      ]
     },
     "metadata": {},
     "output_type": "display_data"
    }
   ],
   "source": [
    "from dnn_model import DNNModel\n",
    "\n",
    "model = DNNModel('words_250000_train.txt', model_weights_src=None, verbose=False).model\n",
    "\n",
    "# shuffle is default to be True: https://keras.io/api/models/model_training_apis/#fit-method\n",
    "history = model.fit([X1, X2], y, validation_split=0.33, epochs=10, batch_size=100, shuffle=False, verbose=1)\n",
    "\n",
    "print(history.history.keys())\n",
    "\n",
    "import matplotlib.pyplot as plt\n",
    "\n",
    "# summarize history for accuracy\n",
    "plt.plot(history.history['accuracy'])\n",
    "plt.plot(history.history['val_accuracy'])\n",
    "plt.title('model accuracy')\n",
    "plt.ylabel('accuracy')\n",
    "plt.xlabel('epoch')\n",
    "plt.legend(['train', 'test'], loc='upper left')\n",
    "plt.show()\n",
    "\n",
    "# summarize history for loss\n",
    "plt.plot(history.history['loss'])\n",
    "plt.plot(history.history['val_loss'])\n",
    "plt.title('model loss')\n",
    "plt.ylabel('loss')\n",
    "plt.xlabel('epoch')\n",
    "plt.legend(['train', 'test'], loc='upper left')\n",
    "plt.show()\n"
   ]
  },
  {
   "cell_type": "markdown",
   "id": "1a9ed20d-9558-4732-a49c-171fcb50e003",
   "metadata": {},
   "source": [
    "### CV by Manual Verification Dataset\n",
    "\n",
    "- model.fit([X1_train, X2_train], y_train, validation_data=([X1_test, X2_test], y_test), epochs=10, batch_size=100)"
   ]
  },
  {
   "cell_type": "code",
   "execution_count": 5,
   "id": "94ab138a-2d4b-4f7d-ad3a-e580bf0dff20",
   "metadata": {},
   "outputs": [
    {
     "name": "stdout",
     "output_type": "stream",
     "text": [
      "(1809204, 81) (891101, 81) (1809204, 26) (891101, 26)\n",
      "(1809204, 29) (1809204, 26) (891101, 29) (891101, 26)\n"
     ]
    }
   ],
   "source": [
    "from sklearn.model_selection import train_test_split\n",
    "\n",
    "seed = 7\n",
    "numpy.random.seed(seed)\n",
    "\n",
    "X_train, X_test, y_train, y_test = train_test_split(X, y, test_size=0.33, random_state=seed)\n",
    "print(X_train.shape, X_test.shape, y_train.shape, y_test.shape)\n",
    "\n",
    "X1_train = X_train[:, :29]\n",
    "X2_train = X_train[:, 29:55]\n",
    "X1_test = X_test[:, :29]\n",
    "X2_test = X_test[:, 29:55]\n",
    "print(X1_train.shape, X2_train.shape, X1_test.shape, X2_test.shape)"
   ]
  },
  {
   "cell_type": "code",
   "execution_count": 6,
   "id": "8d477987-9c0f-4226-a26f-0e3a6cdb7b54",
   "metadata": {},
   "outputs": [
    {
     "name": "stdout",
     "output_type": "stream",
     "text": [
      "\n",
      "--- model weights not loaded\n",
      "\n",
      "Epoch 1/10\n",
      "18093/18093 [==============================] - 482s 26ms/step - loss: 2.6337 - accuracy: 0.1537 - val_loss: 2.5592 - val_accuracy: 0.1846\n",
      "Epoch 2/10\n",
      "11569/18093 [==================>...........] - ETA: 2:31 - loss: 2.5617 - accuracy: 0.1742"
     ]
    },
    {
     "ename": "KeyboardInterrupt",
     "evalue": "",
     "output_type": "error",
     "traceback": [
      "\u001b[1;31m---------------------------------------------------------------------------\u001b[0m",
      "\u001b[1;31mKeyboardInterrupt\u001b[0m                         Traceback (most recent call last)",
      "Cell \u001b[1;32mIn[6], line 2\u001b[0m\n\u001b[0;32m      1\u001b[0m model \u001b[38;5;241m=\u001b[39m DNNModel(\u001b[38;5;124m'\u001b[39m\u001b[38;5;124mwords_250000_train.txt\u001b[39m\u001b[38;5;124m'\u001b[39m, model_weights_src\u001b[38;5;241m=\u001b[39m\u001b[38;5;28;01mNone\u001b[39;00m, verbose\u001b[38;5;241m=\u001b[39m\u001b[38;5;28;01mFalse\u001b[39;00m)\u001b[38;5;241m.\u001b[39mmodel\n\u001b[1;32m----> 2\u001b[0m \u001b[43mmodel\u001b[49m\u001b[38;5;241;43m.\u001b[39;49m\u001b[43mfit\u001b[49m\u001b[43m(\u001b[49m\u001b[43m[\u001b[49m\u001b[43mX1_train\u001b[49m\u001b[43m,\u001b[49m\u001b[43m \u001b[49m\u001b[43mX2_train\u001b[49m\u001b[43m]\u001b[49m\u001b[43m,\u001b[49m\u001b[43m \u001b[49m\u001b[43my_train\u001b[49m\u001b[43m,\u001b[49m\u001b[43m \u001b[49m\u001b[43mvalidation_data\u001b[49m\u001b[38;5;241;43m=\u001b[39;49m\u001b[43m(\u001b[49m\u001b[43m[\u001b[49m\u001b[43mX1_test\u001b[49m\u001b[43m,\u001b[49m\u001b[43m \u001b[49m\u001b[43mX2_test\u001b[49m\u001b[43m]\u001b[49m\u001b[43m,\u001b[49m\u001b[43m \u001b[49m\u001b[43my_test\u001b[49m\u001b[43m)\u001b[49m\u001b[43m,\u001b[49m\u001b[43m \u001b[49m\u001b[43mepochs\u001b[49m\u001b[38;5;241;43m=\u001b[39;49m\u001b[38;5;241;43m10\u001b[39;49m\u001b[43m,\u001b[49m\u001b[43m \u001b[49m\u001b[43mbatch_size\u001b[49m\u001b[38;5;241;43m=\u001b[39;49m\u001b[38;5;241;43m100\u001b[39;49m\u001b[43m)\u001b[49m\n",
      "File \u001b[1;32m~\\anaconda3\\lib\\site-packages\\keras\\utils\\traceback_utils.py:65\u001b[0m, in \u001b[0;36mfilter_traceback.<locals>.error_handler\u001b[1;34m(*args, **kwargs)\u001b[0m\n\u001b[0;32m     63\u001b[0m filtered_tb \u001b[38;5;241m=\u001b[39m \u001b[38;5;28;01mNone\u001b[39;00m\n\u001b[0;32m     64\u001b[0m \u001b[38;5;28;01mtry\u001b[39;00m:\n\u001b[1;32m---> 65\u001b[0m     \u001b[38;5;28;01mreturn\u001b[39;00m fn(\u001b[38;5;241m*\u001b[39margs, \u001b[38;5;241m*\u001b[39m\u001b[38;5;241m*\u001b[39mkwargs)\n\u001b[0;32m     66\u001b[0m \u001b[38;5;28;01mexcept\u001b[39;00m \u001b[38;5;167;01mException\u001b[39;00m \u001b[38;5;28;01mas\u001b[39;00m e:\n\u001b[0;32m     67\u001b[0m     filtered_tb \u001b[38;5;241m=\u001b[39m _process_traceback_frames(e\u001b[38;5;241m.\u001b[39m__traceback__)\n",
      "File \u001b[1;32m~\\anaconda3\\lib\\site-packages\\keras\\engine\\training.py:1685\u001b[0m, in \u001b[0;36mModel.fit\u001b[1;34m(self, x, y, batch_size, epochs, verbose, callbacks, validation_split, validation_data, shuffle, class_weight, sample_weight, initial_epoch, steps_per_epoch, validation_steps, validation_batch_size, validation_freq, max_queue_size, workers, use_multiprocessing)\u001b[0m\n\u001b[0;32m   1677\u001b[0m \u001b[38;5;28;01mwith\u001b[39;00m tf\u001b[38;5;241m.\u001b[39mprofiler\u001b[38;5;241m.\u001b[39mexperimental\u001b[38;5;241m.\u001b[39mTrace(\n\u001b[0;32m   1678\u001b[0m     \u001b[38;5;124m\"\u001b[39m\u001b[38;5;124mtrain\u001b[39m\u001b[38;5;124m\"\u001b[39m,\n\u001b[0;32m   1679\u001b[0m     epoch_num\u001b[38;5;241m=\u001b[39mepoch,\n\u001b[1;32m   (...)\u001b[0m\n\u001b[0;32m   1682\u001b[0m     _r\u001b[38;5;241m=\u001b[39m\u001b[38;5;241m1\u001b[39m,\n\u001b[0;32m   1683\u001b[0m ):\n\u001b[0;32m   1684\u001b[0m     callbacks\u001b[38;5;241m.\u001b[39mon_train_batch_begin(step)\n\u001b[1;32m-> 1685\u001b[0m     tmp_logs \u001b[38;5;241m=\u001b[39m \u001b[38;5;28;43mself\u001b[39;49m\u001b[38;5;241;43m.\u001b[39;49m\u001b[43mtrain_function\u001b[49m\u001b[43m(\u001b[49m\u001b[43miterator\u001b[49m\u001b[43m)\u001b[49m\n\u001b[0;32m   1686\u001b[0m     \u001b[38;5;28;01mif\u001b[39;00m data_handler\u001b[38;5;241m.\u001b[39mshould_sync:\n\u001b[0;32m   1687\u001b[0m         context\u001b[38;5;241m.\u001b[39masync_wait()\n",
      "File \u001b[1;32m~\\anaconda3\\lib\\site-packages\\tensorflow\\python\\util\\traceback_utils.py:150\u001b[0m, in \u001b[0;36mfilter_traceback.<locals>.error_handler\u001b[1;34m(*args, **kwargs)\u001b[0m\n\u001b[0;32m    148\u001b[0m filtered_tb \u001b[38;5;241m=\u001b[39m \u001b[38;5;28;01mNone\u001b[39;00m\n\u001b[0;32m    149\u001b[0m \u001b[38;5;28;01mtry\u001b[39;00m:\n\u001b[1;32m--> 150\u001b[0m   \u001b[38;5;28;01mreturn\u001b[39;00m fn(\u001b[38;5;241m*\u001b[39margs, \u001b[38;5;241m*\u001b[39m\u001b[38;5;241m*\u001b[39mkwargs)\n\u001b[0;32m    151\u001b[0m \u001b[38;5;28;01mexcept\u001b[39;00m \u001b[38;5;167;01mException\u001b[39;00m \u001b[38;5;28;01mas\u001b[39;00m e:\n\u001b[0;32m    152\u001b[0m   filtered_tb \u001b[38;5;241m=\u001b[39m _process_traceback_frames(e\u001b[38;5;241m.\u001b[39m__traceback__)\n",
      "File \u001b[1;32m~\\anaconda3\\lib\\site-packages\\tensorflow\\python\\eager\\polymorphic_function\\polymorphic_function.py:894\u001b[0m, in \u001b[0;36mFunction.__call__\u001b[1;34m(self, *args, **kwds)\u001b[0m\n\u001b[0;32m    891\u001b[0m compiler \u001b[38;5;241m=\u001b[39m \u001b[38;5;124m\"\u001b[39m\u001b[38;5;124mxla\u001b[39m\u001b[38;5;124m\"\u001b[39m \u001b[38;5;28;01mif\u001b[39;00m \u001b[38;5;28mself\u001b[39m\u001b[38;5;241m.\u001b[39m_jit_compile \u001b[38;5;28;01melse\u001b[39;00m \u001b[38;5;124m\"\u001b[39m\u001b[38;5;124mnonXla\u001b[39m\u001b[38;5;124m\"\u001b[39m\n\u001b[0;32m    893\u001b[0m \u001b[38;5;28;01mwith\u001b[39;00m OptionalXlaContext(\u001b[38;5;28mself\u001b[39m\u001b[38;5;241m.\u001b[39m_jit_compile):\n\u001b[1;32m--> 894\u001b[0m   result \u001b[38;5;241m=\u001b[39m \u001b[38;5;28mself\u001b[39m\u001b[38;5;241m.\u001b[39m_call(\u001b[38;5;241m*\u001b[39margs, \u001b[38;5;241m*\u001b[39m\u001b[38;5;241m*\u001b[39mkwds)\n\u001b[0;32m    896\u001b[0m new_tracing_count \u001b[38;5;241m=\u001b[39m \u001b[38;5;28mself\u001b[39m\u001b[38;5;241m.\u001b[39mexperimental_get_tracing_count()\n\u001b[0;32m    897\u001b[0m without_tracing \u001b[38;5;241m=\u001b[39m (tracing_count \u001b[38;5;241m==\u001b[39m new_tracing_count)\n",
      "File \u001b[1;32m~\\anaconda3\\lib\\site-packages\\tensorflow\\python\\eager\\polymorphic_function\\polymorphic_function.py:926\u001b[0m, in \u001b[0;36mFunction._call\u001b[1;34m(self, *args, **kwds)\u001b[0m\n\u001b[0;32m    923\u001b[0m   \u001b[38;5;28mself\u001b[39m\u001b[38;5;241m.\u001b[39m_lock\u001b[38;5;241m.\u001b[39mrelease()\n\u001b[0;32m    924\u001b[0m   \u001b[38;5;66;03m# In this case we have created variables on the first call, so we run the\u001b[39;00m\n\u001b[0;32m    925\u001b[0m   \u001b[38;5;66;03m# defunned version which is guaranteed to never create variables.\u001b[39;00m\n\u001b[1;32m--> 926\u001b[0m   \u001b[38;5;28;01mreturn\u001b[39;00m \u001b[38;5;28mself\u001b[39m\u001b[38;5;241m.\u001b[39m_no_variable_creation_fn(\u001b[38;5;241m*\u001b[39margs, \u001b[38;5;241m*\u001b[39m\u001b[38;5;241m*\u001b[39mkwds)  \u001b[38;5;66;03m# pylint: disable=not-callable\u001b[39;00m\n\u001b[0;32m    927\u001b[0m \u001b[38;5;28;01melif\u001b[39;00m \u001b[38;5;28mself\u001b[39m\u001b[38;5;241m.\u001b[39m_variable_creation_fn \u001b[38;5;129;01mis\u001b[39;00m \u001b[38;5;129;01mnot\u001b[39;00m \u001b[38;5;28;01mNone\u001b[39;00m:\n\u001b[0;32m    928\u001b[0m   \u001b[38;5;66;03m# Release the lock early so that multiple threads can perform the call\u001b[39;00m\n\u001b[0;32m    929\u001b[0m   \u001b[38;5;66;03m# in parallel.\u001b[39;00m\n\u001b[0;32m    930\u001b[0m   \u001b[38;5;28mself\u001b[39m\u001b[38;5;241m.\u001b[39m_lock\u001b[38;5;241m.\u001b[39mrelease()\n",
      "File \u001b[1;32m~\\anaconda3\\lib\\site-packages\\tensorflow\\python\\eager\\polymorphic_function\\tracing_compiler.py:143\u001b[0m, in \u001b[0;36mTracingCompiler.__call__\u001b[1;34m(self, *args, **kwargs)\u001b[0m\n\u001b[0;32m    140\u001b[0m \u001b[38;5;28;01mwith\u001b[39;00m \u001b[38;5;28mself\u001b[39m\u001b[38;5;241m.\u001b[39m_lock:\n\u001b[0;32m    141\u001b[0m   (concrete_function,\n\u001b[0;32m    142\u001b[0m    filtered_flat_args) \u001b[38;5;241m=\u001b[39m \u001b[38;5;28mself\u001b[39m\u001b[38;5;241m.\u001b[39m_maybe_define_function(args, kwargs)\n\u001b[1;32m--> 143\u001b[0m \u001b[38;5;28;01mreturn\u001b[39;00m \u001b[43mconcrete_function\u001b[49m\u001b[38;5;241;43m.\u001b[39;49m\u001b[43m_call_flat\u001b[49m\u001b[43m(\u001b[49m\n\u001b[0;32m    144\u001b[0m \u001b[43m    \u001b[49m\u001b[43mfiltered_flat_args\u001b[49m\u001b[43m,\u001b[49m\u001b[43m \u001b[49m\u001b[43mcaptured_inputs\u001b[49m\u001b[38;5;241;43m=\u001b[39;49m\u001b[43mconcrete_function\u001b[49m\u001b[38;5;241;43m.\u001b[39;49m\u001b[43mcaptured_inputs\u001b[49m\u001b[43m)\u001b[49m\n",
      "File \u001b[1;32m~\\anaconda3\\lib\\site-packages\\tensorflow\\python\\eager\\polymorphic_function\\monomorphic_function.py:1757\u001b[0m, in \u001b[0;36mConcreteFunction._call_flat\u001b[1;34m(self, args, captured_inputs, cancellation_manager)\u001b[0m\n\u001b[0;32m   1753\u001b[0m possible_gradient_type \u001b[38;5;241m=\u001b[39m gradients_util\u001b[38;5;241m.\u001b[39mPossibleTapeGradientTypes(args)\n\u001b[0;32m   1754\u001b[0m \u001b[38;5;28;01mif\u001b[39;00m (possible_gradient_type \u001b[38;5;241m==\u001b[39m gradients_util\u001b[38;5;241m.\u001b[39mPOSSIBLE_GRADIENT_TYPES_NONE\n\u001b[0;32m   1755\u001b[0m     \u001b[38;5;129;01mand\u001b[39;00m executing_eagerly):\n\u001b[0;32m   1756\u001b[0m   \u001b[38;5;66;03m# No tape is watching; skip to running the function.\u001b[39;00m\n\u001b[1;32m-> 1757\u001b[0m   \u001b[38;5;28;01mreturn\u001b[39;00m \u001b[38;5;28mself\u001b[39m\u001b[38;5;241m.\u001b[39m_build_call_outputs(\u001b[38;5;28;43mself\u001b[39;49m\u001b[38;5;241;43m.\u001b[39;49m\u001b[43m_inference_function\u001b[49m\u001b[38;5;241;43m.\u001b[39;49m\u001b[43mcall\u001b[49m\u001b[43m(\u001b[49m\n\u001b[0;32m   1758\u001b[0m \u001b[43m      \u001b[49m\u001b[43mctx\u001b[49m\u001b[43m,\u001b[49m\u001b[43m \u001b[49m\u001b[43margs\u001b[49m\u001b[43m,\u001b[49m\u001b[43m \u001b[49m\u001b[43mcancellation_manager\u001b[49m\u001b[38;5;241;43m=\u001b[39;49m\u001b[43mcancellation_manager\u001b[49m\u001b[43m)\u001b[49m)\n\u001b[0;32m   1759\u001b[0m forward_backward \u001b[38;5;241m=\u001b[39m \u001b[38;5;28mself\u001b[39m\u001b[38;5;241m.\u001b[39m_select_forward_and_backward_functions(\n\u001b[0;32m   1760\u001b[0m     args,\n\u001b[0;32m   1761\u001b[0m     possible_gradient_type,\n\u001b[0;32m   1762\u001b[0m     executing_eagerly)\n\u001b[0;32m   1763\u001b[0m forward_function, args_with_tangents \u001b[38;5;241m=\u001b[39m forward_backward\u001b[38;5;241m.\u001b[39mforward()\n",
      "File \u001b[1;32m~\\anaconda3\\lib\\site-packages\\tensorflow\\python\\eager\\polymorphic_function\\monomorphic_function.py:381\u001b[0m, in \u001b[0;36m_EagerDefinedFunction.call\u001b[1;34m(self, ctx, args, cancellation_manager)\u001b[0m\n\u001b[0;32m    379\u001b[0m \u001b[38;5;28;01mwith\u001b[39;00m _InterpolateFunctionError(\u001b[38;5;28mself\u001b[39m):\n\u001b[0;32m    380\u001b[0m   \u001b[38;5;28;01mif\u001b[39;00m cancellation_manager \u001b[38;5;129;01mis\u001b[39;00m \u001b[38;5;28;01mNone\u001b[39;00m:\n\u001b[1;32m--> 381\u001b[0m     outputs \u001b[38;5;241m=\u001b[39m \u001b[43mexecute\u001b[49m\u001b[38;5;241;43m.\u001b[39;49m\u001b[43mexecute\u001b[49m\u001b[43m(\u001b[49m\n\u001b[0;32m    382\u001b[0m \u001b[43m        \u001b[49m\u001b[38;5;28;43mstr\u001b[39;49m\u001b[43m(\u001b[49m\u001b[38;5;28;43mself\u001b[39;49m\u001b[38;5;241;43m.\u001b[39;49m\u001b[43msignature\u001b[49m\u001b[38;5;241;43m.\u001b[39;49m\u001b[43mname\u001b[49m\u001b[43m)\u001b[49m\u001b[43m,\u001b[49m\n\u001b[0;32m    383\u001b[0m \u001b[43m        \u001b[49m\u001b[43mnum_outputs\u001b[49m\u001b[38;5;241;43m=\u001b[39;49m\u001b[38;5;28;43mself\u001b[39;49m\u001b[38;5;241;43m.\u001b[39;49m\u001b[43m_num_outputs\u001b[49m\u001b[43m,\u001b[49m\n\u001b[0;32m    384\u001b[0m \u001b[43m        \u001b[49m\u001b[43minputs\u001b[49m\u001b[38;5;241;43m=\u001b[39;49m\u001b[43margs\u001b[49m\u001b[43m,\u001b[49m\n\u001b[0;32m    385\u001b[0m \u001b[43m        \u001b[49m\u001b[43mattrs\u001b[49m\u001b[38;5;241;43m=\u001b[39;49m\u001b[43mattrs\u001b[49m\u001b[43m,\u001b[49m\n\u001b[0;32m    386\u001b[0m \u001b[43m        \u001b[49m\u001b[43mctx\u001b[49m\u001b[38;5;241;43m=\u001b[39;49m\u001b[43mctx\u001b[49m\u001b[43m)\u001b[49m\n\u001b[0;32m    387\u001b[0m   \u001b[38;5;28;01melse\u001b[39;00m:\n\u001b[0;32m    388\u001b[0m     outputs \u001b[38;5;241m=\u001b[39m execute\u001b[38;5;241m.\u001b[39mexecute_with_cancellation(\n\u001b[0;32m    389\u001b[0m         \u001b[38;5;28mstr\u001b[39m(\u001b[38;5;28mself\u001b[39m\u001b[38;5;241m.\u001b[39msignature\u001b[38;5;241m.\u001b[39mname),\n\u001b[0;32m    390\u001b[0m         num_outputs\u001b[38;5;241m=\u001b[39m\u001b[38;5;28mself\u001b[39m\u001b[38;5;241m.\u001b[39m_num_outputs,\n\u001b[1;32m   (...)\u001b[0m\n\u001b[0;32m    393\u001b[0m         ctx\u001b[38;5;241m=\u001b[39mctx,\n\u001b[0;32m    394\u001b[0m         cancellation_manager\u001b[38;5;241m=\u001b[39mcancellation_manager)\n",
      "File \u001b[1;32m~\\anaconda3\\lib\\site-packages\\tensorflow\\python\\eager\\execute.py:52\u001b[0m, in \u001b[0;36mquick_execute\u001b[1;34m(op_name, num_outputs, inputs, attrs, ctx, name)\u001b[0m\n\u001b[0;32m     50\u001b[0m \u001b[38;5;28;01mtry\u001b[39;00m:\n\u001b[0;32m     51\u001b[0m   ctx\u001b[38;5;241m.\u001b[39mensure_initialized()\n\u001b[1;32m---> 52\u001b[0m   tensors \u001b[38;5;241m=\u001b[39m \u001b[43mpywrap_tfe\u001b[49m\u001b[38;5;241;43m.\u001b[39;49m\u001b[43mTFE_Py_Execute\u001b[49m\u001b[43m(\u001b[49m\u001b[43mctx\u001b[49m\u001b[38;5;241;43m.\u001b[39;49m\u001b[43m_handle\u001b[49m\u001b[43m,\u001b[49m\u001b[43m \u001b[49m\u001b[43mdevice_name\u001b[49m\u001b[43m,\u001b[49m\u001b[43m \u001b[49m\u001b[43mop_name\u001b[49m\u001b[43m,\u001b[49m\n\u001b[0;32m     53\u001b[0m \u001b[43m                                      \u001b[49m\u001b[43minputs\u001b[49m\u001b[43m,\u001b[49m\u001b[43m \u001b[49m\u001b[43mattrs\u001b[49m\u001b[43m,\u001b[49m\u001b[43m \u001b[49m\u001b[43mnum_outputs\u001b[49m\u001b[43m)\u001b[49m\n\u001b[0;32m     54\u001b[0m \u001b[38;5;28;01mexcept\u001b[39;00m core\u001b[38;5;241m.\u001b[39m_NotOkStatusException \u001b[38;5;28;01mas\u001b[39;00m e:\n\u001b[0;32m     55\u001b[0m   \u001b[38;5;28;01mif\u001b[39;00m name \u001b[38;5;129;01mis\u001b[39;00m \u001b[38;5;129;01mnot\u001b[39;00m \u001b[38;5;28;01mNone\u001b[39;00m:\n",
      "\u001b[1;31mKeyboardInterrupt\u001b[0m: "
     ]
    }
   ],
   "source": [
    "model = DNNModel('words_250000_train.txt', model_weights_src=None, verbose=False).model\n",
    "model.fit([X1_train, X2_train], y_train, validation_data=([X1_test, X2_test], y_test), epochs=10, batch_size=100)"
   ]
  },
  {
   "cell_type": "markdown",
   "id": "0e6cd49c-78f0-4065-ab52-2f771cf3d4a4",
   "metadata": {},
   "source": [
    "### CV by Manual k-Fold Cross Validation\n",
    "\n",
    "- sklearn.model_selection.StratifiedKFold"
   ]
  },
  {
   "cell_type": "markdown",
   "id": "0e8b273f-1450-406d-b208-84acb8d29cab",
   "metadata": {},
   "source": [
    "**Error message: Sklearn StratifiedKFold: ValueError: Supported target types are: ('binary', 'multiclass'). Got 'multilabel-indicator' instead**\n",
    "\n",
    "- https://stackoverflow.com/questions/48508036/sklearn-stratifiedkfold-valueerror-supported-target-types-are-binary-mul\n",
    "\n",
    "keras.utils.to_categorical produces a one-hot encoded class vector, i.e. the multilabel-indicator mentioned in the error message. StratifiedKFold is not designed to work with such input; from the split method docs:\n",
    "\n",
    "    split(X, y, groups=None)\n",
    "\n",
    "    [...]\n",
    "\n",
    "    y : array-like, shape (n_samples,)\n",
    "\n",
    "    The target variable for supervised learning problems. Stratification is done based on the y labels.\n",
    "\n",
    "i.e. your y must be a 1-D array of your class labels."
   ]
  },
  {
   "cell_type": "code",
   "execution_count": null,
   "id": "8c9a8813-7989-403a-ae2b-460b61a8fbf8",
   "metadata": {},
   "outputs": [],
   "source": [
    "# from sklearn.model_selection import StratifiedKFold\n",
    "\n",
    "# model = DNNModel('words_250000_train.txt', model_weights_src=None, verbose=False).model\n",
    "\n",
    "# kfold = StratifiedKFold(n_splits=10, shuffle=True, random_state=seed)\n",
    "# cvscores = []\n",
    "# print(X.shape, y.shape)\n",
    "# for train, test in kfold.split(X, y):\n",
    "#     X1_train = X_train[train, :29]\n",
    "#     X2_train = X_train[train, 29:55]\n",
    "#     X1_test = X_test[test, :29]\n",
    "#     X2_test = X_test[test, 29:55]\n",
    "#     model.fit([X1_train, X2_train], y[train], epochs=10, batch_size=100, verbose=0)\n",
    "#     scores = model.evaluate([X1_test, X2_test], y[test], verbose=0)\n",
    "#     print(\"%s: %.2f%%\" % (model.metrics_names[1], scores[1]*100))\n",
    "#     cvscores.append(scores[1]*100)\n",
    "    \n",
    "# print(\"%.2f%% (+/- %.2f%%)\" % (numpy.mean(cvscores), numpy.std(cvscores)))"
   ]
  },
  {
   "cell_type": "markdown",
   "id": "ed20275b-041b-4806-b05a-368053fb7161",
   "metadata": {},
   "source": [
    "## Visualize Model Training History in Keras\n",
    "\n",
    "- Brownlee: Deep Learning with Python 2ed., Chapter 17: Understand Model Behavior During Training by Plotting History"
   ]
  },
  {
   "cell_type": "code",
   "execution_count": null,
   "id": "262483e9-e70c-4b49-b4cf-cdb70b9ab495",
   "metadata": {},
   "outputs": [],
   "source": [
    "import matplotlib.pyplot as plt\n",
    "\n",
    "model = DNNModel('words_250000_train.txt', model_weights_src=None, verbose=False).model\n",
    "\n",
    "n_epochs = 50\n",
    "\n",
    "# shuffle is default to be True: https://keras.io/api/models/model_training_apis/#fit-method\n",
    "history = model.fit([X1, X2], y, validation_split=0.33, epochs=n_epochs, batch_size=100, shuffle=False, verbose=1)\n",
    "\n",
    "print(history.history.keys())\n",
    "\n",
    "# summarize history for accuracy\n",
    "plt.plot(history.history['accuracy'])\n",
    "plt.plot(history.history['val_accuracy'])\n",
    "plt.title('model accuracy')\n",
    "plt.ylabel('accuracy')\n",
    "plt.xlabel('epoch')\n",
    "plt.legend(['train', 'test'], loc='upper left')\n",
    "plt.show()\n",
    "\n",
    "# summarize history for loss\n",
    "plt.plot(history.history['loss'])\n",
    "plt.plot(history.history['val_loss'])\n",
    "plt.title('model loss')\n",
    "plt.ylabel('loss')\n",
    "plt.xlabel('epoch')\n",
    "plt.legend(['train', 'test'], loc='upper left')\n",
    "plt.show()"
   ]
  },
  {
   "cell_type": "code",
   "execution_count": null,
   "id": "ee4f7849-af1f-41d3-81eb-99dfde6d8468",
   "metadata": {},
   "outputs": [],
   "source": [
    "model.save_weights(f\"\"\"model_weights_{n_epochs}epochs.h5\"\"\")"
   ]
  },
  {
   "cell_type": "markdown",
   "id": "5007caf8-ace0-40d8-9e4f-a26d421b26a9",
   "metadata": {},
   "source": [
    "# Tune Batch Size and Number of Epochs\n",
    "\n",
    "- Brownlee: Deep Learning with Python 2ed., Chapter 14: How to Grid Search Hyperparameters for Deep Learning Models, 14.4"
   ]
  },
  {
   "cell_type": "code",
   "execution_count": null,
   "id": "494cca78-a40b-4703-bde4-7a4d939f4184",
   "metadata": {},
   "outputs": [],
   "source": [
    "from sklearn.model_selection import GridSearchCV\n",
    "from scikeras.wrappers import KerasClassifier\n",
    "\n",
    "batch_size = [10, 50, 100]\n",
    "epochs = [1, 2, 3, 4, 5]\n",
    "param_grid = dict(batch_size=batch_size, epochs=epochs)\n",
    "\n",
    "keras_model = KerasClassifier(model=model, verbose=0)\n",
    "grid = GridSearchCV(estimator=keras_model, param_grid=param_grid, cv=3)\n",
    "grid_result = grid.fit([X1,X2], y)\n",
    "\n",
    "# summarize results\n",
    "print(\"Best: %f using %s\" % (grid_result.best_score_, grid_result.best_params_))\n",
    "means = grid_result.cv_results_['mean_test_score']\n",
    "stds = grid_result.cv_results_['std_test_score']\n",
    "params = grid_result.cv_results_['params']\n",
    "\n",
    "for mean, stdev, param in zip(means, stds, params):\n",
    "    print(\"%f (%f) with: %r\" % (mean, stdev, param))"
   ]
  }
 ],
 "metadata": {
  "kernelspec": {
   "display_name": "Python 3 (ipykernel)",
   "language": "python",
   "name": "python3"
  },
  "language_info": {
   "codemirror_mode": {
    "name": "ipython",
    "version": 3
   },
   "file_extension": ".py",
   "mimetype": "text/x-python",
   "name": "python",
   "nbconvert_exporter": "python",
   "pygments_lexer": "ipython3",
   "version": "3.10.9"
  }
 },
 "nbformat": 4,
 "nbformat_minor": 5
}
